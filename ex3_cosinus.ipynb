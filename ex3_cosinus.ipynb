{
  "nbformat": 4,
  "nbformat_minor": 0,
  "metadata": {
    "@webio": {
      "lastCommId": null,
      "lastKernelId": null
    },
    "kernelspec": {
      "display_name": "Python 3",
      "language": "python",
      "name": "python3"
    },
    "language_info": {
      "codemirror_mode": {
        "name": "ipython",
        "version": 3
      },
      "file_extension": ".py",
      "mimetype": "text/x-python",
      "name": "python",
      "nbconvert_exporter": "python",
      "pygments_lexer": "ipython3",
      "version": "3.7.8"
    },
    "colab": {
      "name": "cosinus.ipynb",
      "provenance": [],
      "include_colab_link": true
    }
  },
  "cells": [
    {
      "cell_type": "markdown",
      "metadata": {
        "id": "view-in-github",
        "colab_type": "text"
      },
      "source": [
        "<a href=\"https://colab.research.google.com/github/philberns/FTRN65/blob/main/ex3_cosinus.ipynb\" target=\"_parent\"><img src=\"https://colab.research.google.com/assets/colab-badge.svg\" alt=\"Open In Colab\"/></a>"
      ]
    },
    {
      "cell_type": "code",
      "metadata": {
        "id": "pukvTZcXFZ6z"
      },
      "source": [
        "%matplotlib inline"
      ],
      "execution_count": null,
      "outputs": []
    },
    {
      "cell_type": "markdown",
      "metadata": {
        "id": "KnLWsIx_FZ65"
      },
      "source": [
        "\n",
        "============================\n",
        "Underfitting vs. Overfitting\n",
        "============================\n",
        "\n",
        "This example demonstrates the problems of underfitting and overfitting and\n",
        "how we can use linear regression with polynomial features to approximate\n",
        "nonlinear functions. The plot shows the function that we want to approximate,\n",
        "which is a part of the cosine function. In addition, the samples from the\n",
        "real function and the approximations of different models are displayed. The\n",
        "models have polynomial features of different degrees. We can see that a\n",
        "linear function (polynomial with degree 1) is not sufficient to fit the\n",
        "training samples. This is called **underfitting**. A polynomial of degree 4\n",
        "approximates the true function almost perfectly. However, for higher degrees\n",
        "the model will **overfit** the training data, i.e. it learns the noise of the\n",
        "training data.\n",
        "We evaluate quantitatively **overfitting** / **underfitting** by using\n",
        "cross-validation. We calculate the mean squared error (MSE) on the validation\n",
        "set, the higher, the less likely the model generalizes correctly from the\n",
        "training data.\n"
      ]
    },
    {
      "cell_type": "code",
      "metadata": {
        "id": "PD5HJA4VFZ66"
      },
      "source": [
        "print(__doc__)\n",
        "\n",
        "import numpy as np\n",
        "import matplotlib.pyplot as plt\n",
        "from sklearn.pipeline import Pipeline\n",
        "from sklearn.preprocessing import PolynomialFeatures\n",
        "from sklearn.linear_model import LinearRegression\n",
        "from sklearn.model_selection import cross_val_score\n",
        "\n",
        "def true_fun(X):\n",
        "    return np.cos(1.5 * np.pi * X)\n",
        "\n",
        "np.random.seed(20)\n",
        "n_samples = 25\n",
        "max_deg = 10\n",
        "degrees = list(range(1,max_deg+1))\n",
        "sig = 0.1; # noise level\n",
        "\n",
        "X = np.sort(np.random.rand(n_samples))\n",
        "y = true_fun(X) + np.random.randn(n_samples) * 0.1\n",
        "t = np.zeros(max_deg)\n",
        "cv = np.zeros(max_deg)\n",
        "for i in range(len(degrees)):\n",
        "    polynomial_features = PolynomialFeatures(degree=degrees[i],\n",
        "                                             include_bias=True)\n",
        "    linear_regression = LinearRegression()\n",
        "    pipeline = Pipeline([(\"polynomial_features\", polynomial_features),\n",
        "                         (\"linear_regression\", linear_regression)])\n",
        "    pipeline.fit(X[:, np.newaxis], y)\n",
        "\n",
        "    # Evaluate the models using crossvalidation\n",
        "    scores = cross_val_score(pipeline, X[:, np.newaxis], y,\n",
        "                             scoring=\"neg_mean_squared_error\", cv=25)\n",
        "    X_test = np.linspace(0, 1, 100)\n",
        "    y1 = pipeline.predict(X_test[:, np.newaxis])\n",
        "    y2 = true_fun(X_test)\n",
        "    t[i]= np.mean(np.square(y1-y2)) + sig**2\n",
        "    cv[i] = -scores.mean()\n",
        "    #print(scores)\n",
        "    plt.plot(X_test, y1 , label=\"Model\")\n",
        "    plt.plot(X_test, y2, label=\"True function\")\n",
        "    plt.scatter(X, y, edgecolor='b', s=20, label=\"Samples\")\n",
        "    plt.xlabel(\"x\")\n",
        "    plt.ylabel(\"y\")\n",
        "    plt.xlim((0, 1))\n",
        "    plt.ylim((-2, 2))\n",
        "    plt.legend(loc=\"best\")\n",
        "    plt.title(\"Degree {}\\nMSE = {:.2e}\".format(\n",
        "        degrees[i], -scores.mean()))\n",
        "    fig = plt.gcf()\n",
        "    plt.show()\n",
        "    #fig.savefig('plot' + str(i+1) +  'moredata.eps',format='eps')\n"
      ],
      "execution_count": null,
      "outputs": []
    },
    {
      "cell_type": "code",
      "metadata": {
        "id": "yS3pyBeXFZ6_"
      },
      "source": [
        "plt.plot(degrees,t,label=\"true MSE\")\n",
        "plt.ylim((0, 0.2))\n",
        "plt.legend(loc=\"upper center\")\n",
        "plt.xlabel(\"Order\")\n",
        "plt.ylabel(\"Mean Square Error\")\n",
        "fig2 = plt.gcf()\n",
        "plt.show()\n",
        "#fig2.savefig(\"MSEvsOrdermoredata.eps\", format='eps')"
      ],
      "execution_count": null,
      "outputs": []
    },
    {
      "cell_type": "code",
      "metadata": {
        "id": "Zi2pI0iCFZ7E"
      },
      "source": [
        "plt.plot(degrees,t,label=\"true MSE\")\n",
        "plt.plot(degrees,cv,label=\"cross validation MSE\")\n",
        "plt.ylim((0, 0.2))\n",
        "plt.legend(loc=\"best\")\n",
        "plt.xlabel(\"Order\")\n",
        "plt.ylabel(\"Mean Square Error\")\n",
        "fig3 = plt.gcf()\n",
        "plt.show()\n",
        "#fig3.savefig(\"CVmoredata.eps\", format = 'eps', dpi=300)"
      ],
      "execution_count": null,
      "outputs": []
    },
    {
      "cell_type": "code",
      "metadata": {
        "id": "2qynFpMqFZ7J"
      },
      "source": [],
      "execution_count": null,
      "outputs": []
    }
  ]
}